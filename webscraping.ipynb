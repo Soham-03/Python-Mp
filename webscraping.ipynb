{
 "cells": [
  {
   "cell_type": "code",
   "execution_count": 1,
   "metadata": {},
   "outputs": [
    {
     "name": "stderr",
     "output_type": "stream",
     "text": [
      "c:\\Users\\soham parab\\AppData\\Local\\Programs\\Python\\Python310\\lib\\site-packages\\tqdm\\auto.py:21: TqdmWarning: IProgress not found. Please update jupyter and ipywidgets. See https://ipywidgets.readthedocs.io/en/stable/user_install.html\n",
      "  from .autonotebook import tqdm as notebook_tqdm\n"
     ]
    }
   ],
   "source": [
    "from bs4 import BeautifulSoup\n",
    "from transformers import pipeline\n",
    "import requests\n",
    "import os\n",
    "import pandas as pd\n",
    "from ast import literal_eval"
   ]
  },
  {
   "cell_type": "code",
   "execution_count": 2,
   "metadata": {},
   "outputs": [],
   "source": [
    "headers = {'User-Agent':'Mozilla/5.0 (Windows NT 10.0; Win64; x64) AppleWebKit/537.36 (KHTML, like Gecko) Chrome/111.0.0.0 Safari/537.36'}\n",
    "URL = 'https://scholar.google.com/scholar?hl=en&as_sdt=0%2C5&q=bicep+curls+muscle&btnG='\n",
    "listOfResultTitles = []\n",
    "\n",
    "def getResWithUrl(linkUrl):\n",
    "    response = requests.get(linkUrl,headers=headers)\n",
    "    soup = BeautifulSoup(response.content,'lxml')\n",
    "    return soup\n",
    "\n",
    "def getResults():\n",
    "    soup = getResWithUrl(URL)\n",
    "    for item in soup.select('[data-lid]'):\n",
    "            listOfResultTitles.append(item.select_one('.gs_rt a').text)\n",
    "    button_links = soup.findAll('a',attrs={'class':'gs_nma'})\n",
    "    for button in button_links:\n",
    "        button['href'] = 'https://scholar.google.com'+button['href']\n",
    "        # next_pages.append(buttons.find('.gs_nma href')) \n",
    "        soup = getResWithUrl(linkUrl=button['href'])\n",
    "        print(button['href'])\n",
    "        for item in soup.select('[data-lid]'):\n",
    "            if(item.select_one('.gs_rt a')!= None):\n",
    "                listOfResultTitles.append(item.select_one('.gs_rt a').text)\n",
    "                print(item.select_one('.gs_rt a').text)\n",
    "                # print(\"-----------------------------------------\")    "
   ]
  },
  {
   "cell_type": "code",
   "execution_count": 3,
   "metadata": {},
   "outputs": [
    {
     "name": "stdout",
     "output_type": "stream",
     "text": [
      "https://scholar.google.com/scholar?start=10&q=bicep+curls+muscle&hl=en&as_sdt=0,5\n",
      "Lovastatin increases exercise-induced skeletal muscle injury\n",
      "Whole-body vibration increases upper and lower body muscle activity in older adults: potential use of vibration accessories\n",
      "Biceps Brachii and Brachioradialis Excitation in Biceps Curl Exercise: Different Handgrips, Different Synergy\n",
      "Effects of muscle fatigue and recovery on complexity of surface electromyography of Biceps Brachii\n",
      "Unilateral bicep curl hemodynamics: Low‐pressure continuous vs high‐pressure intermittent blood flow restriction\n",
      "Dissociated time course of muscle damage recovery between single-and multi-joint exercises in highly resistance-trained men\n",
      "Effect of the shoulder position on the biceps brachii EMG in different dumbbell curls\n",
      "Relation between systemic inflammatory markers, peripheral muscle mass, and strength in limb muscles in stable COPD patients\n",
      "The effect of caffeine ingestion on delayed onset muscle soreness\n",
      "Muscle activation during low-intensity muscle contractions with varying levels of external limb compression\n",
      "https://scholar.google.com/scholar?start=20&q=bicep+curls+muscle&hl=en&as_sdt=0,5\n",
      "Three dimensional musculoskeletal modelling of the seated biceps curl resistance training exercise\n",
      "Decreased functional capacity and muscle strength in elderly women with metabolic syndrome\n",
      "The effects of internal and external imagery on muscular and ocular concomitants\n",
      "Respiratory muscle strength training with nonrespiratory maneuvers\n",
      "Single vs. multi-joint resistance exercises: effects on muscle strength and hypertrophy\n",
      "Relationship between skin temperature, electrical manifestations of muscle fatigue, and exercise-induced delayed onset muscle soreness for dynamic contractions: a …\n",
      "Lower body blood flow restriction training may induce remote muscle strength adaptations in an active unrestricted arm\n",
      "Practical blood flow restriction training increases muscle hypertrophy during a periodized resistance training programme\n",
      "Muscle activation during low-intensity muscle contractions with restricted blood flow\n",
      "The effects of whole-body vibration on upper-and lower-body EMG during static and dynamic contractions\n",
      "https://scholar.google.com/scholar?start=30&q=bicep+curls+muscle&hl=en&as_sdt=0,5\n",
      "Vertical whole-body vibrations improve the total volume of a biceps curl set to failure\n",
      "The effects of varying glenohumeral joint angle on acute volume load, muscle activation, swelling, and echo-intensity on the biceps brachii in resistance-trained …\n",
      "Exercise in virtual reality with a muscular avatar influences performance on a weightlifting exercise\n",
      "Effect of strength training with blood flow restriction on muscle power and submaximal strength in eumenorrheic women\n",
      "A comparison of acute changes in muscle thickness between A-mode and B-mode ultrasound\n",
      "Does muscular force of the upper body increase following acute, direct vibration?\n",
      "Short recovery augments magnitude of muscle damage in high responders\n",
      "Replacing a Swiss ball for an exercise bench causes variable changes in trunk muscle activity during upper limb strength exercises\n",
      "Analysis of the Physiognomy of Unique Sets in the Maximum Number of Repetitions Strategy—The Case of One-Arm Scott Machine Seated Bicep Curls\n",
      "Strength training's chronic effects on muscle architecture parameters of different arm sites\n",
      "https://scholar.google.com/scholar?start=40&q=bicep+curls+muscle&hl=en&as_sdt=0,5\n",
      "Analysis of factors that influence the maximum number of repetitions in two upper-body resistance exercises: curl biceps and bench press\n",
      "Resultant muscle torque and electromyographic activity during high intensity elastic resistance and free weight exercises\n",
      "Accuracy of 1-RM Prediction Equations for the Bench Press and Biceps Curl.\n",
      "Ratings of perceived exertion in active muscle during high-intensity and low-intensity resistance exercise\n",
      "Seated row and biceps curl exercises present similar acute responses on muscle thickness, arm circumference, and peak force for elbow flexors after a resistance …\n",
      "Switched control of motor assistance and functional electrical stimulation for biceps curls\n",
      "Reliability of 1-repetition maximum estimation for upper and lower body muscular strength measurement in untrained middle aged type 2 diabetic patients\n",
      "Effect of muscle strength and flexibility on club-head\n",
      "On the impact of biceps muscle fatigue in human activity recognition\n",
      "Muscle activation, blood lactate, and perceived exertion responses to changing resistance training programming variables\n",
      "https://scholar.google.com/scholar?start=50&q=bicep+curls+muscle&hl=en&as_sdt=0,5\n",
      "The acute effect of direct vibration on muscular power performance in master athletes\n",
      "The effects of supplementation with creatine and protein on muscle strength following a traditional resistance training program in middle-aged and older men\n",
      "Real-time auditory feedback of arm movement and EMG in biceps curl training to enhance the quality\n",
      "Ice massage: effects on exercise-induced muscle damage\n",
      "Do exercise‐induced increases in muscle size contribute to strength in resistance‐trained individuals?\n",
      "Effect of low-level laser therapy (808 nm) on markers of muscle damage: a randomized double-blind placebo-controlled trial\n",
      "Comparative Analysis of Muscle Activities for Upper Extremity During Resistance Exercises Using Variable and Elastic Loads\n",
      "Effects of strength training, detraining and retraining in muscle strength, hypertrophy and functional tasks in older female adults\n",
      "Neurophysiological responses after short-term strength training of the biceps brachii muscle\n",
      "https://scholar.google.com/scholar?start=60&q=bicep+curls+muscle&hl=en&as_sdt=0,5\n",
      "Relationship between fatigue index and number of repetition maxima with sub-maximal loads in biceps curl\n",
      "Effects of one year of resistance training on the relation between muscular strength and bone density in elderly women\n",
      "Neuromuscular adaptations following prepubescent strength training.\n",
      "The effect of associative and dissociative attentional focus strategies on muscle activity and heart rate during a weight training exercise\n",
      "Muscle strength as a predictor of bone mineral density in young women\n",
      "A comparative electromyographical analysis of biceps brachii and brachioradialis during eight different types of biceps curl\n",
      "Discriminant analysis of changes in human muscle function when interacting with an assistive aid\n",
      "Rest interval between resistance exercise sets: length affects volume but not creatine kinase activity or muscle soreness\n",
      "Influence of exercise order on maximum strength and muscle thickness in untrained men\n",
      "https://scholar.google.com/scholar?start=70&q=bicep+curls+muscle&hl=en&as_sdt=0,5\n",
      "Prior resistance training and sex influence muscle responses to arm suspension\n",
      "MR measurements of muscle damage and adaptation after eccentric exercise\n",
      "Analysis of surface EMG signals in biceps curls using maximum singular value estimation\n",
      "The effect of muscle actions on the level of connective tissue damage\n",
      "CRUX: A compliant robotic upper-extremity exosuit for lightweight, portable, multi-joint muscular augmentation\n",
      "EMG amplitude and frequency parameters of muscular activity: effect of resistance training based on electromyographic fatigue threshold\n",
      "The effects of muscle mass and number of sets during resistance exercise on postexercise hypotension\n",
      "Maximal repetition performance and muscle activation of biceps brachii and triceps brachii during agonist-antagonist paired set adopting different exercise order\n",
      "Attentional focusing instructions influence force production and muscular activity during isokinetic elbow flexions\n",
      "Differences in muscle activation and kinematics between cable-based and selectorized weight training\n",
      "https://scholar.google.com/scholar?start=80&q=bicep+curls+muscle&hl=en&as_sdt=0,5\n",
      "Varying motor assistance during biceps curls induced via functional electrical stimulation\n",
      "Experience in resistance training does not prevent reduction in muscle strength evoked by passive static stretching\n",
      "Video analysis of muscle motion\n",
      "Long-term creatine supplementation improves muscular performance during resistance training in older women\n",
      "Can changes in echo intensity be used to detect the presence of acute muscle swelling?\n",
      "Activity and immobilization after eccentric exercise: I. Recovery of muscle function\n",
      "Intensity thresholds and maximal lactate steady state in small muscle group exercise\n",
      "Suspension training vs. traditional resistance training: effects on muscle mass, strength and functional performance in older adults\n",
      "A switched systems approach based on changing muscle geometry of the biceps brachii during functional electrical stimulation\n",
      "Resistance training with creatine monohydrate improves upper-body strength in patients with Parkinson disease: a randomized trial\n",
      "https://scholar.google.com/scholar?start=90&q=bicep+curls+muscle&hl=en&as_sdt=0,5\n",
      "Power training induced change in bradykinesia and muscle power in Parkinson's disease\n",
      "Effects of load and contraction velocity during three-week biceps curls training on isometric and isokinetic performance\n",
      "Effect of total body weight resistance exercise (TRX) on arms muscle power\n",
      "Influence of exercise order on maximum strength and muscle volume in nonlinear periodized resistance training\n",
      "Effect of functional resistance training on muscular fitness outcomes in young adults\n",
      "Between the beginning and end of a repetition: How intrinsic and extrinsic factors influence the intensity of a biceps curl\n",
      "The effect of partial sleep deprivation on weight-lifting performance\n",
      "Submaximal delayed-onset muscle soreness: correlations between MR imaging findings and clinical measures.\n",
      "Strength training with repetitions to failure does not provide additional strength and muscle hypertrophy gains in young women\n",
      "Ischemic preconditioning blunts muscle damage responses induced by eccentric exercise.\n"
     ]
    }
   ],
   "source": [
    "getResults()"
   ]
  },
  {
   "cell_type": "code",
   "execution_count": 24,
   "metadata": {},
   "outputs": [],
   "source": [
    "QA_input = {\n",
    "    'question':\"Best Bicep Exercises?\",\n",
    "    'context':'We do various bicep exercises, but the best of all od them are any curls'\n",
    "}\n",
    "def showOneResult():\n",
    "    question_answerer = pipeline(\"question-answering\", model='distilbert-base-cased-distilled-squad')\n",
    "\n",
    "    context = r\"\"\"\"\n",
    "    ALl the curl exercises are good if done slowly with highest contraction and full ROM. You will see bicep gains soon.\n",
    "    \"\"\"\n",
    "    result = question_answerer(question=\"What to do for bicep gains?\",context=context)\n",
    "    print(f\"Answer: '{result['answer']}', score: {round(result['score'], 4)}, start: {result['start']}, end: {result['end']}\")\n"
   ]
  },
  {
   "cell_type": "code",
   "execution_count": 25,
   "metadata": {},
   "outputs": [
    {
     "name": "stderr",
     "output_type": "stream",
     "text": [
      "Some layers from the model checkpoint at distilbert-base-cased-distilled-squad were not used when initializing TFDistilBertForQuestionAnswering: ['dropout_19']\n",
      "- This IS expected if you are initializing TFDistilBertForQuestionAnswering from the checkpoint of a model trained on another task or with another architecture (e.g. initializing a BertForSequenceClassification model from a BertForPreTraining model).\n",
      "- This IS NOT expected if you are initializing TFDistilBertForQuestionAnswering from the checkpoint of a model that you expect to be exactly identical (initializing a BertForSequenceClassification model from a BertForSequenceClassification model).\n",
      "Some layers of TFDistilBertForQuestionAnswering were not initialized from the model checkpoint at distilbert-base-cased-distilled-squad and are newly initialized: ['dropout_219']\n",
      "You should probably TRAIN this model on a down-stream task to be able to use it for predictions and inference.\n"
     ]
    },
    {
     "name": "stdout",
     "output_type": "stream",
     "text": [
      "Answer: 'soon', score: 0.4314, start: 117, end: 121\n"
     ]
    }
   ],
   "source": [
    "showOneResult()"
   ]
  },
  {
   "cell_type": "code",
   "execution_count": 1,
   "metadata": {},
   "outputs": [],
   "source": [
    "import json\n",
    "with open(r\"train.json\",\"r\")as read_file:\n",
    "    train = json.load(read_file)"
   ]
  },
  {
   "cell_type": "code",
   "execution_count": 2,
   "metadata": {},
   "outputs": [
    {
     "data": {
      "text/plain": [
       "[{'context': 'Mistborn is a series of epic fantasy novels written by American author Brandon Sanderson.',\n",
       "  'qas': [{'id': '00001',\n",
       "    'is_impossible': False,\n",
       "    'question': 'Who is the author of the Mistborn series?',\n",
       "    'answers': [{'text': 'Brandon Sanderson', 'answer_start': 71}]}]},\n",
       " {'context': 'The first series, published between 2006 and 2008, consists of The Final Empire,The Well of Ascension, and The Hero of Ages.',\n",
       "  'qas': [{'id': '00002',\n",
       "    'is_impossible': False,\n",
       "    'question': 'When was the series published?',\n",
       "    'answers': [{'text': 'between 2006 and 2008', 'answer_start': 28}]},\n",
       "   {'id': '00003',\n",
       "    'is_impossible': False,\n",
       "    'question': 'What are the three books in the series?',\n",
       "    'answers': [{'text': 'The Final Empire, The Well of Ascension, and The Hero of Ages',\n",
       "      'answer_start': 63}]},\n",
       "   {'id': '00004',\n",
       "    'is_impossible': True,\n",
       "    'question': 'Who is the main character in the series?',\n",
       "    'answers': []}]}]"
      ]
     },
     "execution_count": 2,
     "metadata": {},
     "output_type": "execute_result"
    }
   ],
   "source": [
    "train"
   ]
  },
  {
   "cell_type": "code",
   "execution_count": 11,
   "metadata": {},
   "outputs": [],
   "source": [
    "with open(r\"test.json\",\"r\")as read_file:\n",
    "    test = json.load(read_file)"
   ]
  },
  {
   "cell_type": "code",
   "execution_count": 12,
   "metadata": {},
   "outputs": [
    {
     "data": {
      "text/plain": [
       "[{'context': 'The series primarily takes place in a region called the Final Empire on a world called Scadrial, where the sun and sky are red, vegetation is brown, and the ground is constantly being covered under black volcanic ashfalls.',\n",
       "  'qas': [{'id': '00001',\n",
       "    'is_impossible': False,\n",
       "    'question': 'Where does the series take place?',\n",
       "    'answers': [{'text': 'region called the Final Empire', 'answer_start': 38},\n",
       "     {'text': 'world called Scadrial', 'answer_start': 74}]}]},\n",
       " {'context': '\"Mistings\" have only one of the many Allomantic powers, while \"Mistborns\" have all the powers.',\n",
       "  'qas': [{'id': '00002',\n",
       "    'is_impossible': False,\n",
       "    'question': 'How many powers does a Misting possess?',\n",
       "    'answers': [{'text': 'one', 'answer_start': 21}]},\n",
       "   {'id': '00003',\n",
       "    'is_impossible': False,\n",
       "    'question': 'What are Allomantic powers?',\n",
       "    'answers': []}]}]"
      ]
     },
     "execution_count": 12,
     "metadata": {},
     "output_type": "execute_result"
    }
   ],
   "source": [
    "test"
   ]
  },
  {
   "cell_type": "code",
   "execution_count": 35,
   "metadata": {},
   "outputs": [],
   "source": [
    "with open(r\"prediction.json\",\"r\")as read_file:\n",
    "    predict = json.load(read_file)"
   ]
  },
  {
   "cell_type": "code",
   "execution_count": 36,
   "metadata": {},
   "outputs": [
    {
     "data": {
      "text/plain": [
       "[{'context': 'The first series, published between 2006 and 2008, consists of The Final Empire,The Well of Ascension, and The Hero of Ages.',\n",
       "  'qas': [{'question': 'What are the three books in the series?', 'id': '0'}]}]"
      ]
     },
     "execution_count": 36,
     "metadata": {},
     "output_type": "execute_result"
    }
   ],
   "source": [
    "predict"
   ]
  },
  {
   "cell_type": "code",
   "execution_count": 15,
   "metadata": {},
   "outputs": [],
   "source": [
    "import logging\n",
    "from simpletransformers.question_answering import QuestionAnsweringModel, QuestionAnsweringArgs"
   ]
  },
  {
   "cell_type": "code",
   "execution_count": 16,
   "metadata": {},
   "outputs": [],
   "source": [
    "model_type = \"bert\"\n",
    "model_name = \"bert-base-cased\"\n",
    "\n",
    "model_args = QuestionAnsweringArgs()\n",
    "model_args.train_batch_size = 16\n",
    "model_args.evaluate_during_training = True\n",
    "model_args.n_best_size = 3\n",
    "model_args.num_train_epochs = 5"
   ]
  },
  {
   "cell_type": "code",
   "execution_count": 42,
   "metadata": {},
   "outputs": [],
   "source": [
    "train_args = {\n",
    "    \"reprocess_input_data\":True,\n",
    "    \"overwrite_output_dir\":True,\n",
    "    \"use_cached_eval_features\":True,\n",
    "    \"output_dir\":f\"outputs/{model_type}/best_model\",\n",
    "    \"evaluate_during_training\":True,\n",
    "    \"max_seq_length\":128,\n",
    "    \"num_train_epochs\":20,\n",
    "    \"evaluate_during_training_steps\":1000,\n",
    "    \"wandb_project\":\"Question Answer Application\",\n",
    "    \"wandb_kwargs\":{\"name\":model_name},\n",
    "    \"save_model_every_epoch\":False,\n",
    "    \"save_eval_checkpoints\":False,\n",
    "    \"n_best_size\":3,\n",
    "    \"train_batch_size\":128,\n",
    "    \"eval_batch_size\":64\n",
    "}"
   ]
  },
  {
   "cell_type": "code",
   "execution_count": 43,
   "metadata": {},
   "outputs": [
    {
     "name": "stderr",
     "output_type": "stream",
     "text": [
      "Some weights of the model checkpoint at bert-base-cased were not used when initializing BertForQuestionAnswering: ['cls.predictions.bias', 'cls.predictions.transform.LayerNorm.weight', 'cls.predictions.decoder.weight', 'cls.predictions.transform.LayerNorm.bias', 'cls.seq_relationship.bias', 'cls.predictions.transform.dense.bias', 'cls.predictions.transform.dense.weight', 'cls.seq_relationship.weight']\n",
      "- This IS expected if you are initializing BertForQuestionAnswering from the checkpoint of a model trained on another task or with another architecture (e.g. initializing a BertForSequenceClassification model from a BertForPreTraining model).\n",
      "- This IS NOT expected if you are initializing BertForQuestionAnswering from the checkpoint of a model that you expect to be exactly identical (initializing a BertForSequenceClassification model from a BertForSequenceClassification model).\n",
      "Some weights of BertForQuestionAnswering were not initialized from the model checkpoint at bert-base-cased and are newly initialized: ['qa_outputs.weight', 'qa_outputs.bias']\n",
      "You should probably TRAIN this model on a down-stream task to be able to use it for predictions and inference.\n"
     ]
    }
   ],
   "source": [
    "model = QuestionAnsweringModel(\n",
    "    model_type,model_name,args=train_args,use_cuda=False\n",
    ")"
   ]
  },
  {
   "cell_type": "code",
   "execution_count": 44,
   "metadata": {},
   "outputs": [
    {
     "name": "stderr",
     "output_type": "stream",
     "text": [
      "convert squad examples to features: 100%|██████████| 4/4 [00:00<00:00, 360.27it/s]\n",
      "add example index and unique id: 100%|██████████| 4/4 [00:00<?, ?it/s]\n",
      "Epoch:   0%|          | 0/20 [00:00<?, ?it/s]"
     ]
    },
    {
     "data": {
      "text/html": [
       "Finishing last run (ID:2kdwi489) before initializing another..."
      ],
      "text/plain": [
       "<IPython.core.display.HTML object>"
      ]
     },
     "metadata": {},
     "output_type": "display_data"
    },
    {
     "data": {
      "text/html": [
       "Waiting for W&B process to finish... <strong style=\"color:green\">(success).</strong>"
      ],
      "text/plain": [
       "<IPython.core.display.HTML object>"
      ]
     },
     "metadata": {},
     "output_type": "display_data"
    },
    {
     "name": "stderr",
     "output_type": "stream",
     "text": [
      "\u001b[34m\u001b[1mwandb\u001b[0m: \u001b[32m\u001b[41mERROR\u001b[0m Control-C detected -- Run data was not synced\n"
     ]
    },
    {
     "data": {
      "text/html": [
       "Successfully finished last run (ID:2kdwi489). Initializing new run:<br/>"
      ],
      "text/plain": [
       "<IPython.core.display.HTML object>"
      ]
     },
     "metadata": {},
     "output_type": "display_data"
    }
   ],
   "source": [
    "model.train_model(train,eval_data=test)"
   ]
  },
  {
   "cell_type": "code",
   "execution_count": 20,
   "metadata": {},
   "outputs": [
    {
     "name": "stderr",
     "output_type": "stream",
     "text": [
      "Running Evaluation: 100%|██████████| 1/1 [00:01<00:00,  1.44s/it]\n"
     ]
    }
   ],
   "source": [
    "results, text = model.eval_model(test)"
   ]
  },
  {
   "cell_type": "code",
   "execution_count": 22,
   "metadata": {},
   "outputs": [
    {
     "data": {
      "text/plain": [
       "{'correct_text': {},\n",
       " 'similar_text': {'00001': {'truth': 'region called the Final Empire',\n",
       "   'predicted': 'place in a region called the Final Empire on a world called Scadrial, where the sun and sky are red, vegetation',\n",
       "   'question': 'Where does the series take place?'},\n",
       "  '00002': {'truth': 'one',\n",
       "   'predicted': 'one of the many Allomantic',\n",
       "   'question': 'How many powers does a Misting possess?'},\n",
       "  '00003': {'truth': '',\n",
       "   'predicted': 'empty',\n",
       "   'question': 'What are Allomantic powers?'}},\n",
       " 'incorrect_text': {}}"
      ]
     },
     "execution_count": 22,
     "metadata": {},
     "output_type": "execute_result"
    }
   ],
   "source": [
    "text "
   ]
  },
  {
   "cell_type": "code",
   "execution_count": 37,
   "metadata": {},
   "outputs": [
    {
     "name": "stderr",
     "output_type": "stream",
     "text": [
      "convert squad examples to features: 100%|██████████| 1/1 [00:00<00:00, 90.88it/s]\n",
      "add example index and unique id: 100%|██████████| 1/1 [00:00<?, ?it/s]\n",
      "Running Prediction: 100%|██████████| 1/1 [00:05<00:00,  5.01s/it]\n"
     ]
    }
   ],
   "source": [
    "result, texts = model.predict(predict)"
   ]
  },
  {
   "cell_type": "code",
   "execution_count": 41,
   "metadata": {},
   "outputs": [
    {
     "data": {
      "text/plain": [
       "[{'id': '0', 'answer': ['between 2006 and 2008', 'between 2006', 'and 2008']}]"
      ]
     },
     "execution_count": 41,
     "metadata": {},
     "output_type": "execute_result"
    }
   ],
   "source": [
    "result"
   ]
  }
 ],
 "metadata": {
  "kernelspec": {
   "display_name": "Python 3",
   "language": "python",
   "name": "python3"
  },
  "language_info": {
   "codemirror_mode": {
    "name": "ipython",
    "version": 3
   },
   "file_extension": ".py",
   "mimetype": "text/x-python",
   "name": "python",
   "nbconvert_exporter": "python",
   "pygments_lexer": "ipython3",
   "version": "3.10.8"
  },
  "orig_nbformat": 4,
  "vscode": {
   "interpreter": {
    "hash": "fd84d8773507ec306642f430d60f0071b00ccfe11198786218e9c74b6497ed14"
   }
  }
 },
 "nbformat": 4,
 "nbformat_minor": 2
}
